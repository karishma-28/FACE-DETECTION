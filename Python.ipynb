{
 "cells": [
  {
   "cell_type": "code",
   "execution_count": 5,
   "id": "4c717639-f795-46d9-a3b5-cad91700e7ae",
   "metadata": {},
   "outputs": [
    {
     "name": "stdout",
     "output_type": "stream",
     "text": [
      "12 23 22 21 45 54 56 65 53 67 76 68 87 89 99 9 90 "
     ]
    }
   ],
   "source": [
    "import numpy as np\n",
    "arr =np.array([12,23,22,21,45,54,56,65,53,67,76,68,87,89,99,9,90])\n",
    "for element in arr:\n",
    "    print(element,end=' ')"
   ]
  },
  {
   "cell_type": "code",
   "execution_count": 6,
   "id": "bb2cf7f5-cc1d-44b8-ac2d-86b455db848a",
   "metadata": {},
   "outputs": [],
   "source": [
    "arr = np.insert(arr,4,69)"
   ]
  },
  {
   "cell_type": "code",
   "execution_count": 7,
   "id": "323e1da4-c344-4a83-ba95-20d1ef99f6cd",
   "metadata": {},
   "outputs": [
    {
     "data": {
      "text/plain": [
       "array([12, 23, 22, 21, 69, 45, 54, 56, 65, 53, 67, 76, 68, 87, 89, 99,  9,\n",
       "       90])"
      ]
     },
     "execution_count": 7,
     "metadata": {},
     "output_type": "execute_result"
    }
   ],
   "source": [
    "arr"
   ]
  },
  {
   "cell_type": "code",
   "execution_count": 8,
   "id": "8c4bc345-b4e4-402c-bb5c-91ea923683ad",
   "metadata": {},
   "outputs": [],
   "source": [
    "arr = np.delete(arr,6)"
   ]
  },
  {
   "cell_type": "code",
   "execution_count": 9,
   "id": "c49cf62e-5782-496e-9ee8-2e9cc2f8a795",
   "metadata": {},
   "outputs": [
    {
     "data": {
      "text/plain": [
       "array([12, 23, 22, 21, 69, 45, 56, 65, 53, 67, 76, 68, 87, 89, 99,  9, 90])"
      ]
     },
     "execution_count": 9,
     "metadata": {},
     "output_type": "execute_result"
    }
   ],
   "source": [
    "arr"
   ]
  },
  {
   "cell_type": "code",
   "execution_count": 10,
   "id": "3f27fb2b-319e-4928-abf6-75d2723bbbde",
   "metadata": {},
   "outputs": [
    {
     "name": "stdout",
     "output_type": "stream",
     "text": [
      "Element is: 4\n"
     ]
    }
   ],
   "source": [
    "#Linear search\n",
    "target = 69\n",
    "index = np.where(arr == target)\n",
    "found = index[0][0]\n",
    "if index[0]:\n",
    "    index[0].size>0\n",
    "else:\n",
    "    -1\n",
    "print(\"Element is:\",found)"
   ]
  },
  {
   "cell_type": "code",
   "execution_count": 11,
   "id": "3f909014-69f5-41e5-87f0-4f6915639c78",
   "metadata": {},
   "outputs": [],
   "source": [
    "def two_sum(nums, target):\n",
    "    hashmap = {}  # Initialize the hashmap (dictionary) to store numbers and their indices\n",
    "    for i, num in enumerate(nums):\n",
    "        complement = target - num  # Calculate the complement of the current number\n",
    "        if complement in hashmap:  # Check if the complement is already in the hashmap\n",
    "            return [hashmap[complement], i]  # If found, return the indices of the complement and the current number\n",
    "        hashmap[num] = i  # Add the current number and its index to the hashmap"
   ]
  },
  {
   "cell_type": "code",
   "execution_count": 12,
   "id": "729d65d6-2a7b-4bb3-8401-aa9e9bdd9768",
   "metadata": {},
   "outputs": [
    {
     "name": "stdout",
     "output_type": "stream",
     "text": [
      "[0, 1]\n"
     ]
    }
   ],
   "source": [
    "nums = [2, 7, 11, 15]\n",
    "target = 9\n",
    "print(two_sum(nums, target))"
   ]
  },
  {
   "cell_type": "code",
   "execution_count": 13,
   "id": "9fa5078f-2ad5-4930-ab77-e858c8244dbe",
   "metadata": {},
   "outputs": [],
   "source": []
  },
  {
   "cell_type": "code",
   "execution_count": null,
   "id": "75e5ed72-49c9-43f2-a29f-dc79c1e80c0b",
   "metadata": {},
   "outputs": [],
   "source": []
  },
  {
   "cell_type": "code",
   "execution_count": 41,
   "id": "df36e557-21a2-4ef8-9974-142ccdfd0a98",
   "metadata": {},
   "outputs": [],
   "source": [
    "def two_sums(nums,target):\n",
    "    hashmap={}\n",
    "    for i,num in enumerate(arr):\n",
    "        complement = target - num\n",
    "        if complement in hashmap:\n",
    "            return[hashmap[complement],i]\n",
    "        hashmap[num] = i"
   ]
  },
  {
   "cell_type": "code",
   "execution_count": 42,
   "id": "6673fa5d-d24f-4b0d-b180-2b5b6de436fe",
   "metadata": {},
   "outputs": [
    {
     "name": "stdout",
     "output_type": "stream",
     "text": [
      "[0, 1]\n"
     ]
    }
   ],
   "source": [
    "nums = [2,7,11,15]\n",
    "target = 9\n",
    "print(two_sum(nums,target))"
   ]
  },
  {
   "cell_type": "code",
   "execution_count": 39,
   "id": "4b8fb505-fef0-4303-902f-920d21a37223",
   "metadata": {},
   "outputs": [],
   "source": [
    "def two_sum(nums, target):\n",
    "    hashmap = {}\n",
    "    for i, num in enumerate(nums):\n",
    "        complement = target - num\n",
    "        if complement in hashmap:\n",
    "            return [hashmap[complement], i]\n",
    "        hashmap[num] = i"
   ]
  },
  {
   "cell_type": "code",
   "execution_count": 40,
   "id": "70616472-50d4-4b16-a5b3-004131ed8239",
   "metadata": {},
   "outputs": [
    {
     "name": "stdout",
     "output_type": "stream",
     "text": [
      "[0, 1]\n"
     ]
    }
   ],
   "source": [
    "nums = [2,7,11,15]\n",
    "target = 9\n",
    "print(two_sum(nums,target))"
   ]
  },
  {
   "cell_type": "code",
   "execution_count": 48,
   "id": "0c2b3a50-63e9-4d9a-a6f4-4e27157fd80e",
   "metadata": {},
   "outputs": [
    {
     "ename": "NameError",
     "evalue": "name 'max_profit' is not defined",
     "output_type": "error",
     "traceback": [
      "\u001b[0;31m---------------------------------------------------------------------------\u001b[0m",
      "\u001b[0;31mNameError\u001b[0m                                 Traceback (most recent call last)",
      "Cell \u001b[0;32mIn[48], line 16\u001b[0m\n\u001b[1;32m     13\u001b[0m     \u001b[38;5;28;01mreturn\u001b[39;00m max_profit\n\u001b[1;32m     15\u001b[0m prices \u001b[38;5;241m=\u001b[39m [\u001b[38;5;241m7\u001b[39m,\u001b[38;5;241m1\u001b[39m,\u001b[38;5;241m5\u001b[39m,\u001b[38;5;241m3\u001b[39m,\u001b[38;5;241m6\u001b[39m,\u001b[38;5;241m4\u001b[39m]\n\u001b[0;32m---> 16\u001b[0m \u001b[38;5;28mprint\u001b[39m(\u001b[43mmax_profit\u001b[49m(prices))\n",
      "\u001b[0;31mNameError\u001b[0m: name 'max_profit' is not defined"
     ]
    }
   ],
   "source": [
    "#BEST TIME TO BUY AND SELL STOCKS\n",
    "prices = [7,1,5,3,6,4]\n",
    "def max_profits(prices):\n",
    "    min_price = float('inf')\n",
    "    max_profit = 0\n",
    "\n",
    "    for price in prices:\n",
    "        if price < min_price:\n",
    "            min_price = price\n",
    "        profit = price - min_price\n",
    "        if profit > max_profit:\n",
    "            max_profit = profit\n",
    "    return max_profit\n",
    "\n",
    "prices = [7,1,5,3,6,4]\n",
    "print(max_profit(prices))"
   ]
  },
  {
   "cell_type": "code",
   "execution_count": 49,
   "id": "4805eab0-5735-4a1c-86d7-4a35eff6cf0f",
   "metadata": {},
   "outputs": [
    {
     "name": "stdout",
     "output_type": "stream",
     "text": [
      "5\n"
     ]
    }
   ],
   "source": [
    "def max_profit(prices):\n",
    "    # Initialize min_price to a large value and max_profit to 0\n",
    "    min_price = float('inf')\n",
    "    max_profit = 0\n",
    "\n",
    "    # Iterate through each price in the array\n",
    "    for price in prices:\n",
    "        # Update min_price if the current price is lower\n",
    "        if price < min_price:\n",
    "            min_price = price\n",
    "        # Calculate profit if the current price is the selling price\n",
    "        profit = price - min_price\n",
    "        # Update max_profit if the calculated profit is higher\n",
    "        if profit > max_profit:\n",
    "            max_profit = profit\n",
    "\n",
    "    # Return the maximum profit found\n",
    "    return max_profit\n",
    "\n",
    "# Example usage\n",
    "prices = [7, 1, 5, 3, 6, 4]\n",
    "print(max_profit(prices))  # Output: 5"
   ]
  },
  {
   "cell_type": "code",
   "execution_count": 52,
   "id": "ad44c3e3-432b-4d66-8f8e-fe319ad1dded",
   "metadata": {},
   "outputs": [
    {
     "name": "stdout",
     "output_type": "stream",
     "text": [
      "5\n"
     ]
    }
   ],
   "source": [
    "def max_profit(prices):\n",
    "    min_price = float('inf')\n",
    "    max_profit = 0\n",
    "\n",
    "    for price in prices:\n",
    "        if price < min_price:\n",
    "            min_price = price\n",
    "        profit = price - min_price\n",
    "        if profit > max_profit:\n",
    "            max_profit = profit\n",
    "\n",
    "    return max_profit\n",
    "\n",
    "prices = [ 7 , 1 , 5 , 3 , 6 , 4 ]\n",
    "print(max_profit(prices))"
   ]
  },
  {
   "cell_type": "code",
   "execution_count": 54,
   "id": "c303957d-2e9f-4f8f-a202-28536d0e047e",
   "metadata": {},
   "outputs": [
    {
     "name": "stdout",
     "output_type": "stream",
     "text": [
      "5\n"
     ]
    }
   ],
   "source": [
    "def max_profit(prices):\n",
    "    min_price = float('inf')\n",
    "    max_profit = 0\n",
    "\n",
    "    for price in prices:\n",
    "        if price < min_price:\n",
    "            min_price = price\n",
    "        profit = price - min_price\n",
    "        if profit > max_profit:\n",
    "            max_profit = profit\n",
    "    return max_profit\n",
    "\n",
    "prices = [ 7, 1, 5, 3, 6, 4]\n",
    "print(max_profit(prices))"
   ]
  },
  {
   "cell_type": "code",
   "execution_count": null,
   "id": "b0911ff1-f630-476b-8607-10ccde2b70a5",
   "metadata": {},
   "outputs": [],
   "source": []
  }
 ],
 "metadata": {
  "kernelspec": {
   "display_name": "Python 3 (ipykernel)",
   "language": "python",
   "name": "python3"
  },
  "language_info": {
   "codemirror_mode": {
    "name": "ipython",
    "version": 3
   },
   "file_extension": ".py",
   "mimetype": "text/x-python",
   "name": "python",
   "nbconvert_exporter": "python",
   "pygments_lexer": "ipython3",
   "version": "3.12.4"
  }
 },
 "nbformat": 4,
 "nbformat_minor": 5
}
